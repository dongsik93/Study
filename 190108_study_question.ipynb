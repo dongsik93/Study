{
 "cells": [
  {
   "cell_type": "markdown",
   "metadata": {},
   "source": [
    "### Combination"
   ]
  },
  {
   "cell_type": "code",
   "execution_count": 1,
   "metadata": {
    "scrolled": true
   },
   "outputs": [
    {
     "name": "stdout",
     "output_type": "stream",
     "text": [
      "360.0\n"
     ]
    }
   ],
   "source": [
    "def fact(num):\n",
    "    if(num == 1):\n",
    "        return num\n",
    "    return num * fact(num-1)\n",
    "\n",
    "def combination (n, r):\n",
    "    return fact(n) / fact(n-r)*fact(r)\n",
    "\n",
    "print(combination(5,3))"
   ]
  },
  {
   "cell_type": "markdown",
   "metadata": {},
   "source": [
    "### Calendar"
   ]
  },
  {
   "cell_type": "code",
   "execution_count": 2,
   "metadata": {},
   "outputs": [
    {
     "name": "stdout",
     "output_type": "stream",
     "text": [
      "              1월\n",
      "Mo  Tu  We  Th  Fr  Sa  Su  \n",
      "   1    2    3    4    5    6    7  \n",
      "  8    9   10   11   12   13   14  \n",
      " 15   16   17   18   19   20   21  \n",
      " 22   23   24   25   26   27   28  \n",
      " 29   30   31  \n",
      "              2월\n",
      "Mo  Tu  We  Th  Fr  Sa  Su  \n",
      "                     1    2    3    4  \n",
      "  5    6    7    8    9   10   11  \n",
      " 12   13   14   15   16   17   18  \n",
      " 19   20   21   22   23   24   25  \n",
      " 26   27   28  \n",
      "              3월\n",
      "Mo  Tu  We  Th  Fr  Sa  Su  \n",
      "                     1    2    3    4  \n",
      "  5    6    7    8    9   10   11  \n",
      " 12   13   14   15   16   17   18  \n",
      " 19   20   21   22   23   24   25  \n",
      " 26   27   28   29   30   31  \n",
      "              4월\n",
      "Mo  Tu  We  Th  Fr  Sa  Su  \n",
      "                                       1  \n",
      "  2    3    4    5    6    7    8  \n",
      "  9   10   11   12   13   14   15  \n",
      " 16   17   18   19   20   21   22  \n",
      " 23   24   25   26   27   28   29  \n",
      " 30  \n",
      "              5월\n",
      "Mo  Tu  We  Th  Fr  Sa  Su  \n",
      "         1    2    3    4    5    6  \n",
      "  7    8    9   10   11   12   13  \n",
      " 14   15   16   17   18   19   20  \n",
      " 21   22   23   24   25   26   27  \n",
      " 28   29   30   31  \n",
      "              6월\n",
      "Mo  Tu  We  Th  Fr  Sa  Su  \n",
      "                           1    2    3  \n",
      "  4    5    6    7    8    9   10  \n",
      " 11   12   13   14   15   16   17  \n",
      " 18   19   20   21   22   23   24  \n",
      " 25   26   27   28   29   30  \n",
      "              7월\n",
      "Mo  Tu  We  Th  Fr  Sa  Su  \n",
      "                                       1  \n",
      "  2    3    4    5    6    7    8  \n",
      "  9   10   11   12   13   14   15  \n",
      " 16   17   18   19   20   21   22  \n",
      " 23   24   25   26   27   28   29  \n",
      " 30   31  \n",
      "              8월\n",
      "Mo  Tu  We  Th  Fr  Sa  Su  \n",
      "               1    2    3    4    5  \n",
      "  6    7    8    9   10   11   12  \n",
      " 13   14   15   16   17   18   19  \n",
      " 20   21   22   23   24   25   26  \n",
      " 27   28   29   30   31  \n",
      "              9월\n",
      "Mo  Tu  We  Th  Fr  Sa  Su  \n",
      "                                 1    2  \n",
      "  3    4    5    6    7    8    9  \n",
      " 10   11   12   13   14   15   16  \n",
      " 17   18   19   20   21   22   23  \n",
      " 24   25   26   27   28   29   30  \n",
      "\n",
      "             10월\n",
      "Mo  Tu  We  Th  Fr  Sa  Su  \n",
      "   1    2    3    4    5    6    7  \n",
      "  8    9   10   11   12   13   14  \n",
      " 15   16   17   18   19   20   21  \n",
      " 22   23   24   25   26   27   28  \n",
      " 29   30   31  \n",
      "             11월\n",
      "Mo  Tu  We  Th  Fr  Sa  Su  \n",
      "                     1    2    3    4  \n",
      "  5    6    7    8    9   10   11  \n",
      " 12   13   14   15   16   17   18  \n",
      " 19   20   21   22   23   24   25  \n",
      " 26   27   28   29   30  \n",
      "             12월\n",
      "Mo  Tu  We  Th  Fr  Sa  Su  \n",
      "                                 1    2  \n",
      "  3    4    5    6    7    8    9  \n",
      " 10   11   12   13   14   15   16  \n",
      " 17   18   19   20   21   22   23  \n",
      " 24   25   26   27   28   29   30  \n",
      " 31  \n"
     ]
    }
   ],
   "source": [
    "calendar = {\n",
    "    1:31, 2:28, 3:31, 4:30, 5:31, 6:30,\n",
    "    7:31, 8:31, 9:30 ,10:31, 11:30, 12:31\n",
    "}\n",
    "weeks = [\"Mo\", \"Tu\", \"We\", \"Th\", \"Fr\", \"Sa\", \"Su\"]\n",
    "cnt = 0\n",
    "for month, count in calendar.items():\n",
    "    cnt += 0\n",
    "    print(f\"{month:>15}월\")\n",
    "    for week in weeks:\n",
    "        print(f\"{week:>2}\",end=\"  \")\n",
    "    print() \n",
    "    print(cnt*\"      \",end=\" \")\n",
    "    for day in range(1,count+1):\n",
    "        print(f\"{day:>3}\", end=\"  \")\n",
    "        cnt += 1\n",
    "        if(cnt == 7 ):\n",
    "            print()\n",
    "            cnt =0           \n",
    "    print()"
   ]
  }
 ],
 "metadata": {
  "kernelspec": {
   "display_name": "Python 3",
   "language": "python",
   "name": "python3"
  },
  "language_info": {
   "codemirror_mode": {
    "name": "ipython",
    "version": 3
   },
   "file_extension": ".py",
   "mimetype": "text/x-python",
   "name": "python",
   "nbconvert_exporter": "python",
   "pygments_lexer": "ipython3",
   "version": "3.6.8"
  }
 },
 "nbformat": 4,
 "nbformat_minor": 2
}
