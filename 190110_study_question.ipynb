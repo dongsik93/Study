{
 "cells": [
  {
   "cell_type": "markdown",
   "metadata": {},
   "source": [
    "### Problem1\n",
    "<br>사원 J씨가 자료를 정리하다가 모든 글자를 소문자로 만들었는데 관리자가 앞글자는 모두 대문자로 만들어 달라고 한다.\n",
    "그리고 모든 자료들을 리스트로 만들어서 오름차순을 진행한다.\n",
    "J씨를 도와 문제를 해결해주시길 바랍니다.\n",
    "submit_list에 담아 보여주세요\n",
    "<br>예시)\n",
    "<br>str_data = \"james justine martine mary unix linux java cotline tomas script moonjaein\"\n",
    "<br>submit_list = []\n",
    "\n",
    "결과)\n",
    "['James', 'Justine', 'Martine', 'Mary', 'Unix', 'Linux', 'Java', 'Cotline', 'Tomas', 'Script', 'Moonjaein']"
   ]
  },
  {
   "cell_type": "code",
   "execution_count": 1,
   "metadata": {},
   "outputs": [
    {
     "name": "stdout",
     "output_type": "stream",
     "text": [
      "['Cotline', 'James', 'Java', 'Justine', 'Linux', 'Martine', 'Mary', 'Moonjaein', 'Script', 'Tomas', 'Unix']\n"
     ]
    }
   ],
   "source": [
    "str_data = \"james justine martine mary unix linux java cotline tomas script moonjaein\" \n",
    "submit_list = []\n",
    "for i in str_data.split(\" \"):\n",
    "    submit_list.append(i[0].upper()+i[1:])\n",
    "sort = sorted(submit_list)\n",
    "print(sort)"
   ]
  },
  {
   "cell_type": "markdown",
   "metadata": {},
   "source": [
    "### Problem2\n",
    "<br>관리자가 자료를 정리하다가 대소문자를 거꾸로 썼다고 한다.\n",
    "당신에게 자료를 올바르게 고쳐달라고 한다.\n",
    "대소문자를 바꿔서 출력하여 관리자에게 보여주면 된다.\n",
    "예시)\n",
    "data_err = \"jAMES jUSTINE mARTINE mARY uNIX lINUX jAVA cOTLINE tOMAS sCRIPT mOONJAEIN\"\n",
    "\n",
    "결과)\n",
    "James Justine Martine Mary Unix Linux Java Cotline Tomas Script Moonjaein"
   ]
  },
  {
   "cell_type": "code",
   "execution_count": 2,
   "metadata": {},
   "outputs": [
    {
     "name": "stdout",
     "output_type": "stream",
     "text": [
      "James Justine Martine Mary Unix Linux Java Cotline Tomas Script Moonjaein\n"
     ]
    }
   ],
   "source": [
    "ad_str = \"jAMES jUSTINE mARTINE mARY uNIX lINUX jAVA cOTLINE tOMAS sCRIPT mOONJAEIN\"\n",
    "lower = \"qpwoeirutyalskdjfhgzmxncbv\"\n",
    "upper = \"QWERASDFZXCVTGBYHNUJMIKOLP\"\n",
    "data = []\n",
    "for i in ad_str:\n",
    "    if(i in lower):\n",
    "        data.append(i.upper())\n",
    "    else:\n",
    "        data.append(i.lower())\n",
    "word = \"\".join(data)\n",
    "print(word)\n",
    "        "
   ]
  },
  {
   "cell_type": "markdown",
   "metadata": {},
   "source": [
    "### Problem3\n",
    "관리자가 아래의 자료 두개를 하나로 만들어 달라고 한다. 제출할 이름은 submit_result이다.\n",
    "예시)\n",
    "data_f1 = {'a':\"apple\", 'b':\"banana\", 'c':'cherry'}\n",
    "data_f2 = {'o':\"orange\", 'p':\"pineapple\"}\n",
    "\n",
    "결과)\n",
    "submit_result = {'a':\"apple\", 'b':\"banana\", 'c':'cherry', 'o':\"orange\", 'p':\"pineapple\"}\n"
   ]
  },
  {
   "cell_type": "code",
   "execution_count": 3,
   "metadata": {},
   "outputs": [
    {
     "name": "stdout",
     "output_type": "stream",
     "text": [
      "{'a': 'apple', 'b': 'banana', 'c': 'cherry', 'o': 'orange', 'p': 'pineapple'}\n"
     ]
    }
   ],
   "source": [
    "data_f1 = {'a':\"apple\", 'b':\"banana\", 'c':'cherry'} \n",
    "data_f2 = {'o':\"orange\", 'p':\"pineapple\"}\n",
    "data_f1.update(data_f2)\n",
    "print(data_f1)\n",
    "\n"
   ]
  },
  {
   "cell_type": "markdown",
   "metadata": {},
   "source": [
    "## 19.01.09 "
   ]
  },
  {
   "cell_type": "markdown",
   "metadata": {},
   "source": [
    "#### 3번"
   ]
  },
  {
   "cell_type": "code",
   "execution_count": 4,
   "metadata": {},
   "outputs": [],
   "source": [
    "def complex_conjugate(num):\n",
    "    a = num.real\n",
    "    b = -num.imag\n",
    "    c = complex(a,b)\n",
    "    return c"
   ]
  },
  {
   "cell_type": "code",
   "execution_count": 5,
   "metadata": {},
   "outputs": [
    {
     "name": "stdout",
     "output_type": "stream",
     "text": [
      "-5j\n",
      "(3-7j)\n"
     ]
    }
   ],
   "source": [
    "print(complex_conjugate(5j))\n",
    "print(complex_conjugate(3+7j))"
   ]
  },
  {
   "cell_type": "markdown",
   "metadata": {},
   "source": [
    "#### 5번"
   ]
  },
  {
   "cell_type": "code",
   "execution_count": 6,
   "metadata": {},
   "outputs": [],
   "source": [
    "def center_value(my):\n",
    "    if(len(my) % 2 != 0):\n",
    "        a = len(my) / 2\n",
    "        b = my[int(a)]\n",
    "    else:\n",
    "        a = len(my) / 2\n",
    "        b = (my[int(a)-1],my[int(a)])\n",
    "    return b"
   ]
  },
  {
   "cell_type": "code",
   "execution_count": 7,
   "metadata": {},
   "outputs": [
    {
     "name": "stdout",
     "output_type": "stream",
     "text": [
      "1\n",
      "(5, 4)\n",
      "(4, 5)\n",
      "5\n",
      "2\n"
     ]
    }
   ],
   "source": [
    "list_data = [3,2,1,5,4]\n",
    "print(center_value(list_data))\n",
    "print(center_value([3,2,1,5,4,5,5,5]))\n",
    "print(center_value([2,3,4,5,5,5]))\n",
    "print(center_value([5]))\n",
    "print(center_value([1,1,1,1,2,2,7,7,8,9,10]))"
   ]
  }
 ],
 "metadata": {
  "kernelspec": {
   "display_name": "Python 3",
   "language": "python",
   "name": "python3"
  },
  "language_info": {
   "codemirror_mode": {
    "name": "ipython",
    "version": 3
   },
   "file_extension": ".py",
   "mimetype": "text/x-python",
   "name": "python",
   "nbconvert_exporter": "python",
   "pygments_lexer": "ipython3",
   "version": "3.6.8"
  }
 },
 "nbformat": 4,
 "nbformat_minor": 2
}
