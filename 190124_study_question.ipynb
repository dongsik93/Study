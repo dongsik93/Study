{
 "cells": [
  {
   "cell_type": "code",
   "execution_count": 1,
   "metadata": {},
   "outputs": [
    {
     "name": "stdout",
     "output_type": "stream",
     "text": [
      "0 32\n",
      "3 13\n",
      "28 25\n",
      "39 0\n",
      "42\n"
     ]
    }
   ],
   "source": [
    "start_in , start_out = map(int,input().split())\n",
    "two_in, two_out = map(int, input().split())\n",
    "three_in, three_out = map(int, input().split())\n",
    "fin_in, fin_out = map(int, input().split())\n",
    "\n",
    "passenger = []\n",
    "passenger.append(start_out)\n",
    "passenger.append(passenger[0]-two_in+two_out)\n",
    "passenger.append(passenger[1]-three_in+three_out)\n",
    "passenger.append(passenger[2]-fin_in)\n",
    "print(max(passenger))"
   ]
  }
 ],
 "metadata": {
  "kernelspec": {
   "display_name": "Python 3",
   "language": "python",
   "name": "python3"
  },
  "language_info": {
   "codemirror_mode": {
    "name": "ipython",
    "version": 3
   },
   "file_extension": ".py",
   "mimetype": "text/x-python",
   "name": "python",
   "nbconvert_exporter": "python",
   "pygments_lexer": "ipython3",
   "version": "3.6.8"
  }
 },
 "nbformat": 4,
 "nbformat_minor": 2
}
