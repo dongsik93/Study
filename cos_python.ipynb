{
 "cells": [
  {
   "cell_type": "markdown",
   "metadata": {},
   "source": [
    "# 문제2"
   ]
  },
  {
   "cell_type": "markdown",
   "metadata": {},
   "source": [
    "해밍 거리(Hamming distance)란 같은 길이를 가진 두 개의 문자열에서 같은 위치에 있지만 서로 다른 문자의 개수를 뜻 합니다. 예를 들어 두 2진수 문자열이 \"10010\"과 \"110\"이라면, 먼저 두 문자열의 자릿수를 맞추기 위해 \"110\"의 앞에 0 두 개를 채워 \"00110\"으로 만들어 줍니다. 두 2진수 문자열은 첫 번째와 세 번째 문자가 서로 다르므로 해밍 거리는 2입니다.\n",
    "<br> - 10010\n",
    "<br> - 00110\n",
    "<br> 두 2진수 문자열 binaryA, binaryB의 해밍 거리를 구하려 합니다. 이를 위해 다음과 같이 간단히 프로그램 구조를 작성했습니다.\n"
   ]
  },
  {
   "cell_type": "markdown",
   "metadata": {},
   "source": [
    "1단계. 길이가 더 긴 2진수 문자열의 길이를 구합니다.\n",
    "<br>2단계. 첫 번째 2진수 문자열의 길이가 더 짧다면 문자열의 앞에 0을 채워넣어 길이를 맞춰줍니다. <br>3단계. 두 번째 2진수 문자열의 길이가 더 짧다면 문자열의 앞에 0을 채워넣어 길이를 맞춰줍니다. <br>4단계. 길이가 같은 두 2진수 문자열의 해밍 거리를 구합니다."
   ]
  },
  {
   "cell_type": "markdown",
   "metadata": {},
   "source": [
    "두 2진수 문자열 binaryA와 binaryB가 매개변수로 주어질 때, 두 2진수의 해밍 거리를 return 하도록 solution 함수를 작 성했습니다. 이때, 위 구조를 참고하여 중복되는 부분은 func_a라는 함수로 작성했습니다. 코드가 올바르게 동작할 수 있도 록 빈칸을 알맞게 채워 전체 코드를 완성해주세요."
   ]
  },
  {
   "cell_type": "markdown",
   "metadata": {},
   "source": [
    "## 매개변수 설명\n",
    "두 2진수 문자열 binaryA와 binaryB가 solution 함수의 매개변수로 주어집니다.\n",
    "- binaryA의 길이는 1 이상 10 이하입니다.\n",
    "- binaryA는 0 또는 1로만 이루어진 문자열이며, 0으로 시작하지 않습니다. binaryB의 길이는 1 이상 10 이하입니다.\n",
    "- binaryB는 0 또는 1로만 이루어진 문자열이며, 0으로 시작하지 않습니다.\n"
   ]
  },
  {
   "cell_type": "markdown",
   "metadata": {},
   "source": [
    "#### return 값 설명\n",
    "두 2진수 문자열의 해밍 거리를 return 해주세요."
   ]
  },
  {
   "cell_type": "markdown",
   "metadata": {},
   "source": [
    "#### 예시\n",
    "binaryA     binaryB     return<br>\n",
    "\"10010\"\"      110\"             2\n",
    "##### 예시 설명\n",
    "두 2진수의 자릿수는 각각 5와 3입니다. 자릿수를 맞추기 위해 \"110\" 앞에 0 두 개를 채워주면 \"00110\"이 됩니다. 이제 두 2진수 문자열의 해밍 거리를 구하면 다음과 같습니다.\n",
    "- 10010 \n",
    "- 00110<br>\n",
    "위와 같이 첫 번째와 세 번째 문자가 서로 다르므로, 해밍 거리는 2가 됩니다."
   ]
  },
  {
   "cell_type": "code",
   "execution_count": 1,
   "metadata": {},
   "outputs": [
    {
     "name": "stdout",
     "output_type": "stream",
     "text": [
      "solution 함수의 반환 값은 2 입니다.\n"
     ]
    }
   ],
   "source": [
    "def func_a(string, length):\n",
    "    padZero = \"\"\n",
    "    padSize = length-len(string)\n",
    "    for i in range(padSize):\n",
    "        padZero += \"0\"\n",
    "    return padZero + string\n",
    "\n",
    "def solution(binaryA, binaryB):\n",
    "    max_length = max(len(binaryA), len(binaryB))\n",
    "    binaryA = func_a(binaryA, max_length)\n",
    "    binaryB = func_a(binaryB, max_length)\n",
    "    \n",
    "    hamming_distance = 0\n",
    "    for i in range(max_length):\n",
    "        if binaryA[i] != binaryB[i]:\n",
    "            hamming_distance += 1\n",
    "    return hamming_distance\n",
    "\n",
    "binaryA = \"10010\"\n",
    "binaryB = \"110\"\n",
    "ret = solution(binaryA, binaryB)\n",
    "\n",
    "print(\"solution 함수의 반환 값은\", ret, \"입니다.\")"
   ]
  },
  {
   "cell_type": "markdown",
   "metadata": {},
   "source": [
    "## 문제3"
   ]
  },
  {
   "cell_type": "markdown",
   "metadata": {},
   "source": [
    "문자열 형태의 식을 계산하려 합니다. 식은 2개의 자연수와 1개의 연산자('+', '-', '*' 중 하나)로 이루어져 있습니다. 예를 들 어 주어진 식이 \"123+12\"라면 이를 계산한 결과는 135입니다.\n",
    "문자열로 이루어진 식을 계산하기 위해 다음과 같이 간단히 프로그램 구조를 작성했습니다."
   ]
  },
  {
   "cell_type": "markdown",
   "metadata": {},
   "source": [
    "- 1단계. 주어진 식에서 연산자의 위치를 찾습니다.\n",
    "- 2단계. 연산자의 앞과 뒤에 있는 문자열을 각각 숫자로 변환합니다. \n",
    "- 3단계. 주어진 연산자에 맞게 연산을 수행합니다."
   ]
  },
  {
   "cell_type": "markdown",
   "metadata": {},
   "source": [
    "문자열 형태의 식 expression이 매개변수로 주어질 때, 식을 계산한 결과를 return 하도록 solution 함수를 작성하려 합니 다. 위 구조를 참고하여 코드가 올바르게 동작할 수 있도록 빈칸에 주어진 funca, funcb, func_c 함수와 매개변수를 알맞 게 채워주세요."
   ]
  },
  {
   "cell_type": "markdown",
   "metadata": {},
   "source": [
    "#### 매개변수 설명\n",
    "문자열 형태의 식 expression이 solution 함수의 매개변수로 주어집니다. * expression은 연산자 1개와 숫자 2개가 결합 한 형태입니다. * 연산자는 '+', '-', '*'만 사용됩니다. * 숫자는 1 이상 10,000 이하의 자연수입니다."
   ]
  },
  {
   "cell_type": "markdown",
   "metadata": {},
   "source": [
    "#### return값 설명\n",
    "expression을 계산한 결과를 return 해주세요. * 계산 결과는 문자열로 변환하지 않아도 됩니다."
   ]
  },
  {
   "cell_type": "markdown",
   "metadata": {},
   "source": [
    "#### 예시\n",
    "expression     return<br>\n",
    "\"123+12\"              135"
   ]
  },
  {
   "cell_type": "markdown",
   "metadata": {},
   "source": [
    "#### 예시 설명\n",
    "'+'를 기준으로 앞의 숫자는 123이고 뒤의 숫자는 12이므로 두 숫자를 더하면 135가 됩니다."
   ]
  },
  {
   "cell_type": "code",
   "execution_count": 2,
   "metadata": {},
   "outputs": [
    {
     "name": "stdout",
     "output_type": "stream",
     "text": [
      "solution 함수의 반환 값은 135 입니다.\n"
     ]
    }
   ],
   "source": [
    "def func_a(numA, numB, exp):\n",
    "    if exp == '+':\n",
    "        return numA + numB\n",
    "    elif exp == '-':\n",
    "        return numA - numB\n",
    "    elif exp == '*':\n",
    "        return numA * numB\n",
    "    \n",
    "def func_b(exp):\n",
    "    for index, value in enumerate(exp):\n",
    "        if value == '+' or value == '-' or value == '*':\n",
    "            return index\n",
    "        \n",
    "def func_c(exp, idx):\n",
    "    numA = int(exp[:idx])\n",
    "    numB = int(exp[idx + 1:])\n",
    "    return numA, numB\n",
    "\n",
    "def solution(expression):\n",
    "    exp_index = func_b(expression)\n",
    "    first_num, second_num = func_c(expression,exp_index)\n",
    "    result = func_a(first_num,second_num,expression[exp_index])\n",
    "    return result\n",
    "\n",
    "expression = \"123+12\"\n",
    "ret = solution(expression)\n",
    "\n",
    "print(\"solution 함수의 반환 값은\", ret, \"입니다.\")"
   ]
  },
  {
   "cell_type": "markdown",
   "metadata": {},
   "source": [
    "## 문제4"
   ]
  },
  {
   "cell_type": "markdown",
   "metadata": {},
   "source": [
    "어느 누군가가 타임머신을 타고 과거로 가서 숫자 0이 없는 수 체계를 전파했습니다. 역사가 바뀌어 이제 사람들의 의식 속 엔 0이란 숫자가 사라졌습니다. 따라서, 현재의 수 체계는 1, 2, 3, ..., 8, 9, 11, 12, ...와 같이 0이 없게 바뀌었습니다.<br>\n",
    "0을 포함하지 않은 자연수 num이 매개변수로 주어질 때, 이 수에 1을 더한 수를 return 하도록 solution 함수를 완성해주 세요."
   ]
  },
  {
   "cell_type": "markdown",
   "metadata": {},
   "source": [
    "#### 매개변수 설명\n",
    "자연수 num이 solution 함수의 매개변수로 주어집니다. * num은 1 이상 999,999,999,999,999,999 이하의 0을 포함하 지 않는 자연수입니다."
   ]
  },
  {
   "cell_type": "markdown",
   "metadata": {},
   "source": [
    "#### return 값 설명\n",
    "자연수 num에 1을 더한 수를 return 해주세요."
   ]
  },
  {
   "cell_type": "markdown",
   "metadata": {},
   "source": [
    "#### 예시\n",
    "num                    return<br>\n",
    "9949999               9951111"
   ]
  },
  {
   "cell_type": "markdown",
   "metadata": {},
   "source": [
    "#### 예시설명\n",
    "\n",
    "9,949,999에 1을 더하면 9,950,000이지만 0은 존재하지 않으므로 9,951,111이 됩니다."
   ]
  },
  {
   "cell_type": "code",
   "execution_count": 3,
   "metadata": {},
   "outputs": [
    {
     "name": "stdout",
     "output_type": "stream",
     "text": [
      "solution 함수의 반환 값은 9,951,111 입니다.\n"
     ]
    }
   ],
   "source": [
    "def solution(num):\n",
    "    num += 1\n",
    "    num = str(num)\n",
    "    a = 1\n",
    "    for i in range(num.count(\"0\")):\n",
    "        num = int(num)\n",
    "        if(num//a%10==0):\n",
    "            num+=a\n",
    "            a*=10\n",
    "    num = format(num,\",\")    \n",
    "    return num\n",
    "            \n",
    "            \n",
    "    \n",
    "\n",
    "num = 9949999;\n",
    "ret = solution(num)\n",
    "\n",
    "\n",
    "print(\"solution 함수의 반환 값은\", ret, \"입니다.\")\n"
   ]
  },
  {
   "cell_type": "markdown",
   "metadata": {},
   "source": [
    "## 문제5"
   ]
  },
  {
   "cell_type": "markdown",
   "metadata": {},
   "source": [
    "다음과 같이 n x n 크기의 격자에 1부터 n x n까지의 수가 하나씩 있습니다."
   ]
  },
  {
   "cell_type": "markdown",
   "metadata": {},
   "source": [
    "1 2 3<br>\n",
    "8 9 4<br>\n",
    "7 6 5"
   ]
  },
  {
   "cell_type": "markdown",
   "metadata": {},
   "source": [
    "이때 수가 다음과 같은 순서로 배치되어있다면 이것을 n-소용돌이 수라고 부릅니다."
   ]
  },
  {
   "cell_type": "markdown",
   "metadata": {},
   "source": [
    "소용돌이 수에서 1행 1열부터 n 행 n 열까지 대각선상에 존재하는 수들의 합을 구해야 합니다."
   ]
  },
  {
   "cell_type": "markdown",
   "metadata": {},
   "source": [
    "위의 예에서 대각선상에 존재하는 수의 합은 15입니다. 격자의 크기 n이 주어질 때 n-소용돌이 수의 대각선상에 존재하는 수들의 합을 return 하도록 solution 함수를 완성해주세요."
   ]
  },
  {
   "cell_type": "markdown",
   "metadata": {},
   "source": [
    "#### 매개변수 설명\n",
    "격자의 크기 n이 solution 함수의 매개변수로 주어집니다. \n",
    "- n은 1 이상 100 이하의 자연수입니다."
   ]
  },
  {
   "cell_type": "markdown",
   "metadata": {},
   "source": [
    "n return<br>\n",
    "3 15<br>\n",
    "2 4"
   ]
  },
  {
   "cell_type": "code",
   "execution_count": 4,
   "metadata": {},
   "outputs": [
    {
     "name": "stdout",
     "output_type": "stream",
     "text": [
      "solution 함수의 반환 값은 0 입니다.\n",
      "solution 함수의 반환 값은 0 입니다.\n"
     ]
    }
   ],
   "source": [
    "\n",
    "def solution(n):\n",
    "    answer = 0\n",
    "    return answer\n",
    "    \n",
    "    \n",
    "\n",
    "n1 = 3\n",
    "ret1 = solution(n1)\n",
    "\n",
    "print(\"solution 함수의 반환 값은\", ret1, \"입니다.\")\n",
    "    \n",
    "n2 = 2\n",
    "ret2 = solution(n2)\n",
    "\n",
    "print(\"solution 함수의 반환 값은\", ret2, \"입니다.\")"
   ]
  }
 ],
 "metadata": {
  "kernelspec": {
   "display_name": "Python 3",
   "language": "python",
   "name": "python3"
  },
  "language_info": {
   "codemirror_mode": {
    "name": "ipython",
    "version": 3
   },
   "file_extension": ".py",
   "mimetype": "text/x-python",
   "name": "python",
   "nbconvert_exporter": "python",
   "pygments_lexer": "ipython3",
   "version": "3.6.8"
  }
 },
 "nbformat": 4,
 "nbformat_minor": 2
}
