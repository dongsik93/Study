{
 "cells": [
  {
   "cell_type": "markdown",
   "metadata": {},
   "source": [
    "#### 식별자\n",
    ": 변수, 함수, 모듈, 클래스 등을 식별하는데 사용하는 이름<br>\n",
    "- 식별자의 이름은 영문알파벳, _, 숫자로 구성\n",
    "- 첫 글자에 숫자가 올 수 없음\n",
    "- 대소문자 구별\n",
    "- 아래의 예약어는 사용 불가<br>\n",
    "False, None, True, and, as, assert, break, class, continue, def, del, elif, else, except, finally, for, from, global, if, import, in, is, lambda, nonlocal, not, or, pass, raise, return, try, while, with, yield\n",
    "- 내장함수, 모듈 등의 이름으로 만들어도 안됨<br>\n",
    "max, min, sum, 등...\n"
   ]
  },
  {
   "cell_type": "markdown",
   "metadata": {},
   "source": [
    "### P01\n",
    " 식별자들을 직접 확인해보세요."
   ]
  },
  {
   "cell_type": "code",
   "execution_count": 1,
   "metadata": {},
   "outputs": [
    {
     "name": "stdout",
     "output_type": "stream",
     "text": [
      "['False', 'None', 'True', 'and', 'as', 'assert', 'break', 'class', 'continue', 'def', 'del', 'elif', 'else', 'except', 'finally', 'for', 'from', 'global', 'if', 'import', 'in', 'is', 'lambda', 'nonlocal', 'not', 'or', 'pass', 'raise', 'return', 'try', 'while', 'with', 'yield']\n"
     ]
    }
   ],
   "source": [
    "import keyword\n",
    "print(keyword.kwlist)"
   ]
  },
  {
   "cell_type": "markdown",
   "metadata": {},
   "source": [
    "### P02"
   ]
  },
  {
   "cell_type": "markdown",
   "metadata": {},
   "source": [
    "\n",
    "J가 x에는 100의 값을 그리고 y에는 80의 값을 넣어어하는데<br>\n",
    "    x = 80<br>\n",
    "    y = 100<br>\n",
    "의 값으로 잘못 넣었다. 두개의 값을 올바르게 넣어주세요.<br>\n",
    "(값 교체하기)"
   ]
  },
  {
   "cell_type": "code",
   "execution_count": 2,
   "metadata": {},
   "outputs": [
    {
     "name": "stdout",
     "output_type": "stream",
     "text": [
      "100\n",
      "80\n"
     ]
    }
   ],
   "source": [
    "x = 80\n",
    "y= 100\n",
    "x , y = 100 , 80\n",
    "print(x)\n",
    "print(y)"
   ]
  },
  {
   "cell_type": "markdown",
   "metadata": {},
   "source": [
    "### P03"
   ]
  },
  {
   "cell_type": "markdown",
   "metadata": {},
   "source": [
    "정수 23의 값을 2진수와 8진수, 16진수로 표현하세요.\n"
   ]
  },
  {
   "cell_type": "code",
   "execution_count": 3,
   "metadata": {},
   "outputs": [
    {
     "name": "stdout",
     "output_type": "stream",
     "text": [
      "0b10111\n",
      "0o27\n",
      "0x17\n"
     ]
    }
   ],
   "source": [
    "#2진수\n",
    "print(bin(23))\n",
    "#8진수\n",
    "print(oct(23))\n",
    "#16진수\n",
    "print(hex(23))"
   ]
  },
  {
   "cell_type": "markdown",
   "metadata": {},
   "source": [
    "### P04"
   ]
  },
  {
   "cell_type": "markdown",
   "metadata": {},
   "source": [
    "파이썬에서 가장 큰 숫자를 가져와주세요.<br>\n",
    "import sys를 활용합니다.<br>\n",
    "(단, 더 큰 숫자를 쓸순있으나 sys모듈에서 제공하는 가장 큰 숫자를 사용합니다.)"
   ]
  },
  {
   "cell_type": "code",
   "execution_count": 4,
   "metadata": {},
   "outputs": [
    {
     "name": "stdout",
     "output_type": "stream",
     "text": [
      "9223372036854775807\n"
     ]
    }
   ],
   "source": [
    "import sys\n",
    "t = sys.maxsize\n",
    "print(t)"
   ]
  },
  {
   "cell_type": "markdown",
   "metadata": {},
   "source": [
    "### P05"
   ]
  },
  {
   "cell_type": "markdown",
   "metadata": {},
   "source": [
    "data = {} 의 데이터 타입을 알려주세요"
   ]
  },
  {
   "cell_type": "code",
   "execution_count": 5,
   "metadata": {},
   "outputs": [],
   "source": [
    "data = {}"
   ]
  },
  {
   "cell_type": "code",
   "execution_count": 6,
   "metadata": {},
   "outputs": [
    {
     "name": "stdout",
     "output_type": "stream",
     "text": [
      "<class 'dict'>\n"
     ]
    }
   ],
   "source": [
    "print(type(data))"
   ]
  },
  {
   "cell_type": "markdown",
   "metadata": {},
   "source": [
    "### P06"
   ]
  },
  {
   "cell_type": "markdown",
   "metadata": {},
   "source": [
    "math 모듈에 있는 pi의 값을 아래와 같이 나타내주세요.<br>\n",
    "1) 반올림(pi의 값을 소수 2째자리까지)<br>\n",
    "2) 올림<br>\n",
    "3) 내림<br>\n",
    "4) 버림<br>\n",
    "\n",
    "[결과값]<br>\n",
    "    반올림 : 3.14<br>\n",
    "    올림 : 4<br>\n",
    "    내림 : 3<br>\n",
    "    버림 : 3"
   ]
  },
  {
   "cell_type": "code",
   "execution_count": 7,
   "metadata": {},
   "outputs": [
    {
     "name": "stdout",
     "output_type": "stream",
     "text": [
      "반올림 : 3\n",
      "올림 : 4\n",
      "내림 : 3\n",
      "버림 : 3\n"
     ]
    }
   ],
   "source": [
    "import math\n",
    "pi = math.pi\n",
    "print(\"반올림 :\", round(pi))\n",
    "print(\"올림 :\", math.ceil(pi))\n",
    "print(\"내림 :\", math.trunc(pi))\n",
    "print(\"버림 :\", math.floor(pi))"
   ]
  },
  {
   "cell_type": "markdown",
   "metadata": {},
   "source": [
    "### P07"
   ]
  },
  {
   "cell_type": "markdown",
   "metadata": {},
   "source": [
    "complex_num은 복소수 3+5i의 값을 가지고 있다.<br>\n",
    "복소수의 켤레복소수를 구하여주세요."
   ]
  },
  {
   "cell_type": "code",
   "execution_count": 8,
   "metadata": {},
   "outputs": [],
   "source": [
    "complex_num = 3+5j"
   ]
  },
  {
   "cell_type": "code",
   "execution_count": 9,
   "metadata": {},
   "outputs": [
    {
     "name": "stdout",
     "output_type": "stream",
     "text": [
      "(3-5j)\n"
     ]
    }
   ],
   "source": [
    "a = complex_num.real\n",
    "b = -complex_num.imag\n",
    "print(complex(a,b))"
   ]
  },
  {
   "cell_type": "markdown",
   "metadata": {},
   "source": [
    "### P08"
   ]
  },
  {
   "cell_type": "markdown",
   "metadata": {},
   "source": [
    "data = \"안녕하세요, 저는 \"<br>\n",
    "end_data = \"입니다.\"<br>\n",
    "<br>\n",
    "를 가지고 있습니다. 자신의 이름을 data와 end_data 사이에 name 변수에 넣어 문장을 완성하여 result 변수에 넣어주세요."
   ]
  },
  {
   "cell_type": "code",
   "execution_count": 10,
   "metadata": {},
   "outputs": [],
   "source": [
    "data = \"안녕하세요, 저는 \"\n",
    "end_data = \"입니다.\"\n",
    "name = \"문동식\"\n",
    "result = data + name + end_data"
   ]
  },
  {
   "cell_type": "code",
   "execution_count": 11,
   "metadata": {},
   "outputs": [
    {
     "name": "stdout",
     "output_type": "stream",
     "text": [
      "안녕하세요, 저는 문동식입니다.\n",
      "안녕하세요, 저는 문동식입니다.\n"
     ]
    }
   ],
   "source": [
    "print(f\"{data}{name}{end_data}\")\n",
    "print(result)"
   ]
  },
  {
   "cell_type": "markdown",
   "metadata": {},
   "source": [
    "### P09"
   ]
  },
  {
   "cell_type": "markdown",
   "metadata": {},
   "source": [
    "8번 문제에서 완성한 result값에서\n",
    "    저는 {name}입니다.\n",
    "의 값만 result_sub의 값에 넣어주세요"
   ]
  },
  {
   "cell_type": "code",
   "execution_count": 12,
   "metadata": {},
   "outputs": [],
   "source": [
    "result_sub = result"
   ]
  },
  {
   "cell_type": "markdown",
   "metadata": {},
   "source": [
    "### P10"
   ]
  },
  {
   "cell_type": "markdown",
   "metadata": {},
   "source": [
    "result_sub의 길이를 구하세요."
   ]
  },
  {
   "cell_type": "code",
   "execution_count": 13,
   "metadata": {},
   "outputs": [
    {
     "name": "stdout",
     "output_type": "stream",
     "text": [
      "17\n"
     ]
    }
   ],
   "source": [
    "print(len(result_sub))"
   ]
  },
  {
   "cell_type": "markdown",
   "metadata": {},
   "source": [
    "### P11"
   ]
  },
  {
   "cell_type": "markdown",
   "metadata": {},
   "source": [
    "dict_value_index = {\n",
    "    \"apple\":\"사과\",\n",
    "    \"banana\":\"바나나\",\n",
    "    \"peach\":\"복숭아\"\n",
    "}\n",
    "가 있습니다.\n",
    "\n",
    "1) dict_value_index의 key값만 가져오세요<br>\n",
    "2) dict_value_index의 value값만 가져오세요<br>\n",
    "3) dict_value_index의 key, value값을 가져오세요<br>\n",
    "4) dict_value_index의 \"peach\"로 \"복숭아\"의 값을 가져오세요<br>\n",
    "5) dict_value_index의 \"바나나\"로 \"banana\"의 값을 가져오세요<br>\n",
    "6) dict_value_index에 \"grape\"가 없다면 \"grape\"는 \"포도\"를 추가하여주세요.\n"
   ]
  },
  {
   "cell_type": "code",
   "execution_count": 14,
   "metadata": {},
   "outputs": [],
   "source": [
    "dict_value_index = {\n",
    "    \"apple\":\"사과\",\n",
    "    \"banana\":\"바나나\",\n",
    "    \"peach\":\"복숭아\"\n",
    "}"
   ]
  },
  {
   "cell_type": "code",
   "execution_count": 15,
   "metadata": {},
   "outputs": [
    {
     "name": "stdout",
     "output_type": "stream",
     "text": [
      "['apple', 'banana', 'peach']\n",
      "['사과', '바나나', '복숭아']\n",
      "[('apple', '사과'), ('banana', '바나나'), ('peach', '복숭아')]\n",
      "복숭아\n",
      "banana\n",
      "포도\n"
     ]
    }
   ],
   "source": [
    "print(list(dict_value_index.keys()))\n",
    "print(list(dict_value_index.values()))\n",
    "print(list(dict_value_index.items()))\n",
    "print(dict_value_index[\"peach\"])\n",
    "for i,j in dict_value_index.items():\n",
    "    if(j ==\"바나나\"):\n",
    "        print(i)\n",
    "dict_value_index[\"grape\"] = \"포도\"\n",
    "print(dict_value_index[\"grape\"])"
   ]
  },
  {
   "cell_type": "markdown",
   "metadata": {},
   "source": [
    "### P12"
   ]
  },
  {
   "cell_type": "markdown",
   "metadata": {},
   "source": [
    "lunchs = [\"중식\",\"한식\",\"일식\",\"선택식\"]의 값을 가지고 있습니다.\n",
    "\n",
    "lunchs에 index값을 주어 1번부터 진행하고 싶습니다.\n",
    "index의 값을 주어 lunchs_index를 만들어주세요.\n"
   ]
  },
  {
   "cell_type": "code",
   "execution_count": 16,
   "metadata": {},
   "outputs": [
    {
     "name": "stdout",
     "output_type": "stream",
     "text": [
      "[(1, '중식'), (2, '한식'), (3, '일식'), (4, '선택식')]\n"
     ]
    }
   ],
   "source": [
    "lunchs = [\"중식\",\"한식\",\"일식\",\"선택식\"]\n",
    "lunchs_index = []\n",
    "for i in enumerate(lunchs, start=1):\n",
    "    lunchs_index.append(i)\n",
    "        \n",
    "print(lunchs_index)"
   ]
  },
  {
   "cell_type": "markdown",
   "metadata": {},
   "source": [
    "### P13"
   ]
  },
  {
   "cell_type": "markdown",
   "metadata": {},
   "source": [
    "직각삼각형의 넓이를 구하는 함수를 작성하여주세요.<br>\n",
    "def triangle(width, height):<br><br>\n",
    "\n",
    "\n",
    "[예시]<br>\n",
    "    triangle(5,6)<br>\n",
    "[결과값]<br>\n",
    "    15.0"
   ]
  },
  {
   "cell_type": "code",
   "execution_count": 17,
   "metadata": {},
   "outputs": [
    {
     "name": "stdout",
     "output_type": "stream",
     "text": [
      "15.0\n"
     ]
    }
   ],
   "source": [
    "def triangle(width, height):\n",
    "    return width*height/2\n",
    "print(triangle(5,6))"
   ]
  }
 ],
 "metadata": {
  "kernelspec": {
   "display_name": "Python 3",
   "language": "python",
   "name": "python3"
  },
  "language_info": {
   "codemirror_mode": {
    "name": "ipython",
    "version": 3
   },
   "file_extension": ".py",
   "mimetype": "text/x-python",
   "name": "python",
   "nbconvert_exporter": "python",
   "pygments_lexer": "ipython3",
   "version": "3.6.8"
  }
 },
 "nbformat": 4,
 "nbformat_minor": 2
}
