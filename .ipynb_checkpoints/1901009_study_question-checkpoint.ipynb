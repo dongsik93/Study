{
 "cells": [
  {
   "cell_type": "markdown",
   "metadata": {},
   "source": [
    "1번"
   ]
  },
  {
   "cell_type": "code",
   "execution_count": 55,
   "metadata": {},
   "outputs": [
    {
     "name": "stdout",
     "output_type": "stream",
     "text": [
      "안녕, \n",
      "Jupyter\n"
     ]
    },
    {
     "data": {
      "text/plain": [
       "(None, None)"
      ]
     },
     "execution_count": 55,
     "metadata": {},
     "output_type": "execute_result"
    }
   ],
   "source": [
    "print(\"안녕, \"),print(\"Jupyter\")"
   ]
  },
  {
   "cell_type": "markdown",
   "metadata": {},
   "source": [
    "2번"
   ]
  },
  {
   "cell_type": "code",
   "execution_count": 56,
   "metadata": {},
   "outputs": [
    {
     "name": "stdout",
     "output_type": "stream",
     "text": [
      "안녕하세요\n",
      "저는 파이썬을\n",
      "\t배우고 있는\n",
      "\t\t사람입니다.\n"
     ]
    }
   ],
   "source": [
    "print(\"안녕하세요\\n저는 파이썬을\\n\\t배우고 있는\\n\\t\\t사람입니다.\")"
   ]
  },
  {
   "cell_type": "markdown",
   "metadata": {},
   "source": [
    "3번"
   ]
  },
  {
   "cell_type": "code",
   "execution_count": 89,
   "metadata": {},
   "outputs": [
    {
     "name": "stdout",
     "output_type": "stream",
     "text": [
      "5j\n",
      "(3-7j)\n"
     ]
    }
   ],
   "source": [
    "def complex_conjugate(num):\n",
    "    str_num = list(str(num))\n",
    "    for i in range(len(str_num)):\n",
    "        if(str_num[i] == \"+\"):\n",
    "            str_num[i] = \"-\"\n",
    "        elif(str_num[i] == \"-\"):\n",
    "            str_num[i] = \"+\"\n",
    "    word = complex(\"\".join(str_num))\n",
    "    return word\n",
    "print(complex_conjugate(5j))\n",
    "print(complex_conjugate(3+7j))"
   ]
  },
  {
   "cell_type": "markdown",
   "metadata": {},
   "source": [
    "4번\n"
   ]
  },
  {
   "cell_type": "code",
   "execution_count": 52,
   "metadata": {},
   "outputs": [],
   "source": [
    "def convert(num):\n",
    "    q = 0 ; r = 0\n",
    "    result = \"\"\n",
    "    while(True):\n",
    "        if num < 8:\n",
    "            result += str(num)\n",
    "            break\n",
    "        elif num == 8:\n",
    "            result += num%8\n",
    "            result += str(int(num/8))\n",
    "        else:\n",
    "            r = num%8\n",
    "            q = str(int(num/8))\n",
    "            if (r == 0):\n",
    "                result += str(r)\n",
    "                result += str(q)\n",
    "                break\n",
    "            else:\n",
    "                result += str(r)\n",
    "                num = int(q)\n",
    "    result +=\"o0\"\n",
    "    result = result[::-1]\n",
    "    return result"
   ]
  },
  {
   "cell_type": "code",
   "execution_count": 53,
   "metadata": {},
   "outputs": [
    {
     "name": "stdout",
     "output_type": "stream",
     "text": [
      "0o12\n",
      "0o7\n",
      "0o174\n"
     ]
    }
   ],
   "source": [
    "print(convert(10))\n",
    "print(convert(7))\n",
    "print(convert(124))"
   ]
  },
  {
   "cell_type": "markdown",
   "metadata": {},
   "source": [
    "5번"
   ]
  },
  {
   "cell_type": "code",
   "execution_count": 37,
   "metadata": {},
   "outputs": [],
   "source": [
    "def center_value(my):\n",
    "    ac = len(my)\n",
    "    a = len(my) / 2\n",
    "    b = my[int(a)]\n",
    "    return b\n"
   ]
  },
  {
   "cell_type": "code",
   "execution_count": 39,
   "metadata": {},
   "outputs": [
    {
     "name": "stdout",
     "output_type": "stream",
     "text": [
      "4\n"
     ]
    }
   ],
   "source": [
    "data = [1,2,3,4,5,6,7]\n",
    "print(center_value(data))"
   ]
  }
 ],
 "metadata": {
  "kernelspec": {
   "display_name": "Python 3",
   "language": "python",
   "name": "python3"
  },
  "language_info": {
   "codemirror_mode": {
    "name": "ipython",
    "version": 3
   },
   "file_extension": ".py",
   "mimetype": "text/x-python",
   "name": "python",
   "nbconvert_exporter": "python",
   "pygments_lexer": "ipython3",
   "version": "3.6.8"
  }
 },
 "nbformat": 4,
 "nbformat_minor": 2
}
